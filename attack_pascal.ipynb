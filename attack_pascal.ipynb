{
 "cells": [
  {
   "cell_type": "code",
   "execution_count": 1,
   "metadata": {
    "collapsed": true
   },
   "outputs": [],
   "source": [
    "import sys\n",
    "sys.path.insert(0, 'caffe/python')\n",
    "import caffe\n",
    "import numpy as np\n",
    "import scipy.misc\n",
    "import cv2\n",
    "import scipy.io\n",
    "import os, sys, argparse\n",
    "from os.path import join, splitext, split, isfile\n",
    "import pylayer"
   ]
  },
  {
   "cell_type": "code",
   "execution_count": 2,
   "metadata": {
    "collapsed": true
   },
   "outputs": [],
   "source": [
    "caffe.set_mode_gpu()\n",
    "\n",
    "def convert(data):\n",
    "    assert data.ndim == 3\n",
    "    data -= np.array((104.00698793,116.66876762,122.67891434))\n",
    "    data = data.transpose((2, 0, 1))\n",
    "    return data\n",
    "\n",
    "def inverse_convert(data):\n",
    "    assert data.ndim == 3\n",
    "    data = data.transpose((1, 2, 0))\n",
    "    data += np.array((104.00698793,116.66876762,122.67891434))\n",
    "    return data\n",
    "\n",
    "def rescale_image(image):\n",
    "    return image / 255.\n",
    "    \n",
    "def convert_label(label):\n",
    "    mask = label >= 25\n",
    "    label[mask] = 1\n",
    "    label[~mask] = 0\n",
    "    return label\n",
    "\n",
    "model = 'model/hed_pretrained_bsds.caffemodel'\n",
    "\n",
    "\n",
    "test_dir = '../deeplab/models/research/deeplab/datasets/pascal_voc_seg/VOCdevkit/VOC2012/JPEGImages_original' # test images directory\n",
    "\n",
    "\n"
   ]
  },
  {
   "cell_type": "code",
   "execution_count": 3,
   "metadata": {
    "collapsed": true
   },
   "outputs": [],
   "source": [
    "def get_image(image_name):\n",
    "    \n",
    "    img = cv2.cvtColor(cv2.imread(image_name), cv2.COLOR_BGR2RGB).astype(np.float32)\n",
    "    return convert(img)\n",
    "def get_label(label_name):\n",
    "    img = cv2.imread(label_name).astype(np.float32)\n",
    "    return convert_label(np.squeeze(img[:,:,:1]))\n",
    "\n",
    "diversity_prob = 0.0\n",
    "epsilon = 16\n",
    "step = 2\n",
    "mom = 0.5\n",
    "smoothing = 0\n"
   ]
  },
  {
   "cell_type": "code",
   "execution_count": 4,
   "metadata": {
    "collapsed": true
   },
   "outputs": [],
   "source": [
    "\n",
    "def forward_test(dat):\n",
    "    net.blobs['data'].reshape(1, *dat.shape)\n",
    "    net.blobs['data'].data[...] = dat\n",
    "    net.forward()\n",
    "    return np.array(net.blobs['sigmoid_fuse'].data)\n",
    "\n",
    "argnet = 'model/hed_test.pt'\n",
    "\n",
    "net = caffe.Net(argnet, model, caffe.TEST)\n",
    "\n"
   ]
  },
  {
   "cell_type": "code",
   "execution_count": null,
   "metadata": {
    "collapsed": true
   },
   "outputs": [],
   "source": [
    "import matplotlib.pyplot as plt"
   ]
  },
  {
   "cell_type": "code",
   "execution_count": null,
   "metadata": {},
   "outputs": [],
   "source": [
    "import scipy\n",
    "\n",
    "for image in os.listdir(test_dir):\n",
    "    pixels = get_image(os.path.join(test_dir, image))\n",
    "    prefix = image.split('.')[0]\n",
    "    try:\n",
    "        os.makedirs('pascal-hed-outputs')\n",
    "    except:\n",
    "        pass\n",
    "    scipy.misc.imsave(os.path.join('pascal-hed-outputs', prefix + '.png'), np.squeeze(forward_test(pixels)))"
   ]
  },
  {
   "cell_type": "code",
   "execution_count": 5,
   "metadata": {
    "collapsed": true
   },
   "outputs": [],
   "source": [
    "\n",
    "argnet = 'model/hed_train_attack.pt'\n",
    "\n",
    "\n",
    "net = caffe.Net(argnet, model, caffe.TRAIN)\n"
   ]
  },
  {
   "cell_type": "code",
   "execution_count": null,
   "metadata": {},
   "outputs": [],
   "source": [
    "from hed_attack import attack\n",
    "\n",
    "targ = False\n",
    "suppress = False\n",
    "attacks_dir = './pascal_attacked_{:0.1f}_{:0.1f}_{:0.1f}_{:0.1f}_{}_{}'.format(diversity_prob, epsilon, step, mom, targ, suppress)\n",
    "try:\n",
    "    os.makedirs(attacks_dir)\n",
    "except OSError as e:\n",
    "    pass\n",
    "\n",
    "i = 0\n",
    "for image in os.listdir(test_dir):\n",
    "    prefix = image.split('.')[0]\n",
    "    gt = get_label(os.path.join('pascal-hed-outputs', prefix + '.png'))\n",
    "    pixels = get_image(os.path.join(test_dir, image))\n",
    "    if suppress:\n",
    "        att = attack(net, pixels, np.zeros_like(gt), step, epsilon, mom, 10, smoothing, True)\n",
    "    else:\n",
    "        att = attack(net, pixels, gt, step, epsilon, mom, 10, smoothing, targ)\n",
    "    try:\n",
    "        os.makedirs(attack_dir)\n",
    "    except:\n",
    "        pass\n",
    "    scipy.misc.imsave(join(attacks_dir, prefix + '.png'), att.transpose(1, 2, 0))\n",
    "    i+=1\n",
    "    print(i)"
   ]
  },
  {
   "cell_type": "markdown",
   "metadata": {},
   "source": [
    "Targeted attack transferability experiment"
   ]
  },
  {
   "cell_type": "code",
   "execution_count": null,
   "metadata": {
    "collapsed": true
   },
   "outputs": [],
   "source": [
    "\n",
    "with open('./map_clsloc.txt') as f:\n",
    "    dir_to_class = dict([(x[0], x[1]) for x in (y.split() for y in f.read().splitlines())])\n"
   ]
  },
  {
   "cell_type": "code",
   "execution_count": null,
   "metadata": {
    "collapsed": true
   },
   "outputs": [],
   "source": [
    "import random\n",
    "targ = True\n",
    "attacks_dir = './imagenet_attacked_{:0.1f}_{:0.1f}_{:0.1f}_{:0.1f}_{}'.format(diversity_prob, epsilon, step, mom, targ)\n",
    "try:\n",
    "    os.makedirs(attacks_dir)\n",
    "except OSError as e:\n",
    "    pass\n",
    "real_dir = './output'\n",
    "\n",
    "i = 0\n",
    "for folder in os.listdir(test_dir):\n",
    "    for image in os.listdir(os.path.join(test_dir, folder)):\n",
    "        # get a random edge output\n",
    "        c = random.choice(os.listdir('imagenet-hed-outputs'))\n",
    "        im = random.choice(os.listdir(os.path.join('imagenet-hed-outputs', c)))\n",
    "        \n",
    "        gt = get_label(os.path.join('imagenet-hed-outputs', folder, image))\n",
    "        pixels = get_image(os.path.join(test_dir, folder, image))\n",
    "        att = attack(pixels, gt, targ)\n",
    "        try:\n",
    "            os.makedirs(join(attacks_dir, folder))\n",
    "        except:\n",
    "            pass\n",
    "        scipy.misc.imsave(join(attacks_dir, folder, dir_to_class[c] + '_' + image), att.transpose(1, 2, 0))\n",
    "        i+=1\n",
    "    print(i)"
   ]
  },
  {
   "cell_type": "code",
   "execution_count": null,
   "metadata": {
    "collapsed": true
   },
   "outputs": [],
   "source": [
    "from shutil import copyfile\n",
    "\n",
    "new_dir = './imagenet_shuffled_{:0.1f}_{:0.1f}_{:0.1f}_{:0.1f}_{}_{}'.format(diversity_prob, epsilon, step, mom, targ, smoothing)\n",
    "try:\n",
    "    os.makedirs(attacks_dir)\n",
    "except OSError as e:\n",
    "    pass\n",
    "\n",
    "for folder in os.listdir(attacks_dir):\n",
    "    for image in os.listdir(os.path.join(attacks_dir, folder)):\n",
    "        # get a random edge output\n",
    "        new_folder = \"%04d\" % int(image.split('.')[0].split('_')[0])\n",
    "        \n",
    "        try:\n",
    "            os.makedirs(os.path.join(new_dir, new_folder))\n",
    "        except OSError as e:\n",
    "            pass\n",
    "        copyfile(os.path.join(attacks_dir,folder,image), os.path.join(new_dir, new_folder, image))\n",
    "    print(i)"
   ]
  },
  {
   "cell_type": "code",
   "execution_count": null,
   "metadata": {
    "collapsed": true
   },
   "outputs": [],
   "source": [
    "sorted([int(x[1]) for x in dir_to_class.iteritems()])"
   ]
  },
  {
   "cell_type": "code",
   "execution_count": null,
   "metadata": {
    "collapsed": true
   },
   "outputs": [],
   "source": []
  }
 ],
 "metadata": {
  "kernelspec": {
   "display_name": "Python (caf)",
   "language": "python",
   "name": "caf"
  },
  "language_info": {
   "codemirror_mode": {
    "name": "ipython",
    "version": 2
   },
   "file_extension": ".py",
   "mimetype": "text/x-python",
   "name": "python",
   "nbconvert_exporter": "python",
   "pygments_lexer": "ipython2",
   "version": "2.7.15"
  }
 },
 "nbformat": 4,
 "nbformat_minor": 2
}
