{
 "cells": [
  {
   "cell_type": "code",
   "execution_count": 1,
   "metadata": {
    "collapsed": true
   },
   "outputs": [],
   "source": [
    "import sys\n",
    "sys.path.insert(0, 'caffe/python')\n",
    "import caffe\n",
    "import numpy as np\n",
    "import scipy.misc\n",
    "import cv2\n",
    "import scipy.io\n",
    "import os, sys, argparse\n",
    "from os.path import join, splitext, split, isfile\n",
    "import pylayer"
   ]
  },
  {
   "cell_type": "code",
   "execution_count": 2,
   "metadata": {
    "collapsed": true
   },
   "outputs": [],
   "source": [
    "caffe.set_mode_gpu()\n",
    "\n",
    "def convert(data):\n",
    "    assert data.ndim == 3\n",
    "    data -= np.array((104.00698793,116.66876762,122.67891434))\n",
    "    data = data.transpose((2, 0, 1))\n",
    "    return data\n",
    "\n",
    "def inverse_convert(data):\n",
    "    assert data.ndim == 3\n",
    "    data = data.transpose((1, 2, 0))\n",
    "    data += np.array((104.00698793,116.66876762,122.67891434))\n",
    "    return data\n",
    "\n",
    "def rescale_image(image):\n",
    "    return image / 255.\n",
    "    \n",
    "def convert_label(label):\n",
    "    mask = label >= 25\n",
    "    label[mask] = 1\n",
    "    label[~mask] = 0\n",
    "    return label\n",
    "\n",
    "def forward(data, label):\n",
    "    net.blobs['data'].reshape(1, *data.shape)\n",
    "    net.blobs['data'].data[...] = data\n",
    "    net.blobs['label'].reshape(1, 1, *label.shape)\n",
    "    net.blobs['label'].data[...] = label\n",
    "    return net.forward()\n",
    "\n",
    "\n",
    "\n",
    "\n",
    "argnet = 'model/hed_train_attack.pt'\n",
    "\n",
    "model = 'model/hed_pretrained_bsds.caffemodel'\n",
    "\n",
    "net = caffe.Net(argnet, model, caffe.TRAIN)\n",
    "\n",
    "\n",
    "test_dir = 'data/HED-BSDS/test' # test images directory\n"
   ]
  },
  {
   "cell_type": "code",
   "execution_count": 3,
   "metadata": {
    "collapsed": true
   },
   "outputs": [],
   "source": [
    "\n",
    "from scipy.ndimage.filters import gaussian_filter\n",
    "\n",
    "def get_image(image_name):\n",
    "    \n",
    "    img = cv2.cvtColor(cv2.imread(image_name), cv2.COLOR_BGR2RGB).astype(np.float32)\n",
    "    return convert(img)\n",
    "def get_label(label_name):\n",
    "    img = cv2.imread(label_name).astype(np.float32)\n",
    "    return convert_label(np.squeeze(img[:,:,:1]))\n",
    "\n",
    "#perturbation as per https://arxiv.org/abs/1803.06978\n",
    "def perturb_image(image):\n",
    "    \n",
    "    if np.random.uniform() < 0.0:\n",
    "\n",
    "        _, height, width = image.shape\n",
    "\n",
    "        resize_dims = (300, 300)\n",
    "\n",
    "        rheight = np.random.randint(resize_dims[0], image.shape[1])\n",
    "        rwidth = np.random.randint(resize_dims[1], image.shape[2])\n",
    "\n",
    "        image = scipy.misc.imresize(image, (min(height, rheight), min(width, rwidth)))\n",
    "\n",
    "        dheight = height - image.shape[0]\n",
    "        dwidth = width - image.shape[1]\n",
    "\n",
    "        pad_top = np.random.randint(dheight)\n",
    "        pad_left = np.random.randint(dwidth)\n",
    "\n",
    "        image = np.pad(image, ((pad_top, dheight - pad_top), (pad_left, dwidth - pad_left), (0,0)), 'constant')\n",
    "        image = image.transpose(2, 0, 1)\n",
    "        \n",
    "    return image\n",
    "    \n",
    "def attack(data, label, targeted=False, suppress=False):\n",
    "    step = 5\n",
    "    epsilon = 256\n",
    "    delta = np.zeros_like(data)\n",
    "    accum = np.zeros_like(delta)\n",
    "    mom = 0.5\n",
    "    for i in xrange(50):\n",
    "#         if i % 10 == 0:\n",
    "#             l *= np.where(np.random.randint(10) > 3, 1, 0)\n",
    "        forward(np.clip(perturb_image(data) + delta, 0, 255), label)\n",
    "        net.backward(diffs=['data'])\n",
    "        grad = np.squeeze(net.blobs['data'].diff)\n",
    "        \n",
    "        accum = mom * accum + grad\n",
    "        \n",
    "        delta += (-1 if targeted else 1) * step * np.sign(accum)\n",
    "        delta = np.clip(delta, -epsilon, epsilon)\n",
    "        \n",
    "        \n",
    "    return np.clip(data + delta, 0, 255)"
   ]
  },
  {
   "cell_type": "markdown",
   "metadata": {
    "collapsed": true
   },
   "source": [
    "im = get_image(os.path.join(test_dir, os.listdir(test_dir)[0]))\n",
    "\n",
    "lab = get_label('./ccvl.png')\n",
    "\n",
    "attacked = attack(im, lab, True)\n",
    "\n",
    "\n"
   ]
  },
  {
   "cell_type": "markdown",
   "metadata": {
    "collapsed": true
   },
   "source": [
    "diff = np.mean(attacked - im, axis=0)\n",
    "plt.imshow(diff)"
   ]
  },
  {
   "cell_type": "markdown",
   "metadata": {
    "collapsed": true
   },
   "source": [
    "plt.imshow(rescale_image(inverse_convert(attacked)))"
   ]
  },
  {
   "cell_type": "markdown",
   "metadata": {},
   "source": [
    "edge = forward_test(attacked)\n",
    "\n",
    "plt.imshow(np.squeeze(edge))"
   ]
  },
  {
   "cell_type": "code",
   "execution_count": 4,
   "metadata": {
    "collapsed": true
   },
   "outputs": [],
   "source": [
    "import matplotlib.pyplot as plt"
   ]
  },
  {
   "cell_type": "code",
   "execution_count": 5,
   "metadata": {},
   "outputs": [
    {
     "name": "stdout",
     "output_type": "stream",
     "text": [
      "('attacked ', '157087.jpg')\n"
     ]
    },
    {
     "ename": "KeyboardInterrupt",
     "evalue": "",
     "output_type": "error",
     "traceback": [
      "\u001b[0;31m---------------------------------------------------------------------------\u001b[0m",
      "\u001b[0;31mKeyboardInterrupt\u001b[0m                         Traceback (most recent call last)",
      "\u001b[0;32m<ipython-input-5-d180e52a5ceb>\u001b[0m in \u001b[0;36m<module>\u001b[0;34m()\u001b[0m\n\u001b[1;32m     11\u001b[0m \u001b[0;32mfor\u001b[0m \u001b[0mimage\u001b[0m \u001b[0;32min\u001b[0m \u001b[0mos\u001b[0m\u001b[0;34m.\u001b[0m\u001b[0mlistdir\u001b[0m\u001b[0;34m(\u001b[0m\u001b[0mtest_dir\u001b[0m\u001b[0;34m)\u001b[0m\u001b[0;34m:\u001b[0m\u001b[0;34m\u001b[0m\u001b[0m\n\u001b[1;32m     12\u001b[0m     \u001b[0mname\u001b[0m \u001b[0;34m=\u001b[0m \u001b[0mimage\u001b[0m\u001b[0;34m.\u001b[0m\u001b[0msplit\u001b[0m\u001b[0;34m(\u001b[0m\u001b[0;34m'.'\u001b[0m\u001b[0;34m)\u001b[0m\u001b[0;34m[\u001b[0m\u001b[0;36m0\u001b[0m\u001b[0;34m]\u001b[0m\u001b[0;34m\u001b[0m\u001b[0m\n\u001b[0;32m---> 13\u001b[0;31m     \u001b[0matt\u001b[0m \u001b[0;34m=\u001b[0m \u001b[0mattack\u001b[0m\u001b[0;34m(\u001b[0m\u001b[0mget_image\u001b[0m\u001b[0;34m(\u001b[0m\u001b[0mos\u001b[0m\u001b[0;34m.\u001b[0m\u001b[0mpath\u001b[0m\u001b[0;34m.\u001b[0m\u001b[0mjoin\u001b[0m\u001b[0;34m(\u001b[0m\u001b[0mtest_dir\u001b[0m\u001b[0;34m,\u001b[0m \u001b[0mimage\u001b[0m\u001b[0;34m)\u001b[0m\u001b[0;34m)\u001b[0m\u001b[0;34m,\u001b[0m \u001b[0mnp\u001b[0m\u001b[0;34m.\u001b[0m\u001b[0mzeros_like\u001b[0m\u001b[0;34m(\u001b[0m\u001b[0mlabs\u001b[0m\u001b[0;34m[\u001b[0m\u001b[0mname\u001b[0m\u001b[0;34m]\u001b[0m\u001b[0;34m)\u001b[0m\u001b[0;34m,\u001b[0m \u001b[0mTrue\u001b[0m\u001b[0;34m,\u001b[0m \u001b[0mTrue\u001b[0m\u001b[0;34m)\u001b[0m\u001b[0;34m\u001b[0m\u001b[0m\n\u001b[0m\u001b[1;32m     14\u001b[0m \u001b[0;31m#     att = attack(get_image(os.path.join(test_dir, image)), labs[name], False)\u001b[0m\u001b[0;34m\u001b[0m\u001b[0;34m\u001b[0m\u001b[0m\n\u001b[1;32m     15\u001b[0m \u001b[0;34m\u001b[0m\u001b[0m\n",
      "\u001b[0;32m<ipython-input-3-31cab44118a6>\u001b[0m in \u001b[0;36mattack\u001b[0;34m(data, label, targeted, suppress)\u001b[0m\n\u001b[1;32m     44\u001b[0m \u001b[0;31m#         if i % 10 == 0:\u001b[0m\u001b[0;34m\u001b[0m\u001b[0;34m\u001b[0m\u001b[0m\n\u001b[1;32m     45\u001b[0m \u001b[0;31m#             l *= np.where(np.random.randint(10) > 3, 1, 0)\u001b[0m\u001b[0;34m\u001b[0m\u001b[0;34m\u001b[0m\u001b[0m\n\u001b[0;32m---> 46\u001b[0;31m         \u001b[0mforward\u001b[0m\u001b[0;34m(\u001b[0m\u001b[0mnp\u001b[0m\u001b[0;34m.\u001b[0m\u001b[0mclip\u001b[0m\u001b[0;34m(\u001b[0m\u001b[0mperturb_image\u001b[0m\u001b[0;34m(\u001b[0m\u001b[0mdata\u001b[0m\u001b[0;34m)\u001b[0m \u001b[0;34m+\u001b[0m \u001b[0mdelta\u001b[0m\u001b[0;34m,\u001b[0m \u001b[0;36m0\u001b[0m\u001b[0;34m,\u001b[0m \u001b[0;36m255\u001b[0m\u001b[0;34m)\u001b[0m\u001b[0;34m,\u001b[0m \u001b[0mlabel\u001b[0m\u001b[0;34m)\u001b[0m\u001b[0;34m\u001b[0m\u001b[0m\n\u001b[0m\u001b[1;32m     47\u001b[0m         \u001b[0mnet\u001b[0m\u001b[0;34m.\u001b[0m\u001b[0mbackward\u001b[0m\u001b[0;34m(\u001b[0m\u001b[0mdiffs\u001b[0m\u001b[0;34m=\u001b[0m\u001b[0;34m[\u001b[0m\u001b[0;34m'data'\u001b[0m\u001b[0;34m]\u001b[0m\u001b[0;34m)\u001b[0m\u001b[0;34m\u001b[0m\u001b[0m\n\u001b[1;32m     48\u001b[0m         \u001b[0mgrad\u001b[0m \u001b[0;34m=\u001b[0m \u001b[0mnp\u001b[0m\u001b[0;34m.\u001b[0m\u001b[0msqueeze\u001b[0m\u001b[0;34m(\u001b[0m\u001b[0mnet\u001b[0m\u001b[0;34m.\u001b[0m\u001b[0mblobs\u001b[0m\u001b[0;34m[\u001b[0m\u001b[0;34m'data'\u001b[0m\u001b[0;34m]\u001b[0m\u001b[0;34m.\u001b[0m\u001b[0mdiff\u001b[0m\u001b[0;34m)\u001b[0m\u001b[0;34m\u001b[0m\u001b[0m\n",
      "\u001b[0;32m<ipython-input-2-e815b57febbb>\u001b[0m in \u001b[0;36mforward\u001b[0;34m(data, label)\u001b[0m\n\u001b[1;32m     27\u001b[0m     \u001b[0mnet\u001b[0m\u001b[0;34m.\u001b[0m\u001b[0mblobs\u001b[0m\u001b[0;34m[\u001b[0m\u001b[0;34m'label'\u001b[0m\u001b[0;34m]\u001b[0m\u001b[0;34m.\u001b[0m\u001b[0mreshape\u001b[0m\u001b[0;34m(\u001b[0m\u001b[0;36m1\u001b[0m\u001b[0;34m,\u001b[0m \u001b[0;36m1\u001b[0m\u001b[0;34m,\u001b[0m \u001b[0;34m*\u001b[0m\u001b[0mlabel\u001b[0m\u001b[0;34m.\u001b[0m\u001b[0mshape\u001b[0m\u001b[0;34m)\u001b[0m\u001b[0;34m\u001b[0m\u001b[0m\n\u001b[1;32m     28\u001b[0m     \u001b[0mnet\u001b[0m\u001b[0;34m.\u001b[0m\u001b[0mblobs\u001b[0m\u001b[0;34m[\u001b[0m\u001b[0;34m'label'\u001b[0m\u001b[0;34m]\u001b[0m\u001b[0;34m.\u001b[0m\u001b[0mdata\u001b[0m\u001b[0;34m[\u001b[0m\u001b[0;34m.\u001b[0m\u001b[0;34m.\u001b[0m\u001b[0;34m.\u001b[0m\u001b[0;34m]\u001b[0m \u001b[0;34m=\u001b[0m \u001b[0mlabel\u001b[0m\u001b[0;34m\u001b[0m\u001b[0m\n\u001b[0;32m---> 29\u001b[0;31m     \u001b[0;32mreturn\u001b[0m \u001b[0mnet\u001b[0m\u001b[0;34m.\u001b[0m\u001b[0mforward\u001b[0m\u001b[0;34m(\u001b[0m\u001b[0;34m)\u001b[0m\u001b[0;34m\u001b[0m\u001b[0m\n\u001b[0m\u001b[1;32m     30\u001b[0m \u001b[0;34m\u001b[0m\u001b[0m\n\u001b[1;32m     31\u001b[0m \u001b[0;34m\u001b[0m\u001b[0m\n",
      "\u001b[0;32m/home/christian/developer/hed/caffe/python/caffe/pycaffe.pyc\u001b[0m in \u001b[0;36m_Net_forward\u001b[0;34m(self, blobs, start, end, **kwargs)\u001b[0m\n\u001b[1;32m    129\u001b[0m             \u001b[0mself\u001b[0m\u001b[0;34m.\u001b[0m\u001b[0mblobs\u001b[0m\u001b[0;34m[\u001b[0m\u001b[0min_\u001b[0m\u001b[0;34m]\u001b[0m\u001b[0;34m.\u001b[0m\u001b[0mdata\u001b[0m\u001b[0;34m[\u001b[0m\u001b[0;34m.\u001b[0m\u001b[0;34m.\u001b[0m\u001b[0;34m.\u001b[0m\u001b[0;34m]\u001b[0m \u001b[0;34m=\u001b[0m \u001b[0mblob\u001b[0m\u001b[0;34m\u001b[0m\u001b[0m\n\u001b[1;32m    130\u001b[0m \u001b[0;34m\u001b[0m\u001b[0m\n\u001b[0;32m--> 131\u001b[0;31m     \u001b[0mself\u001b[0m\u001b[0;34m.\u001b[0m\u001b[0m_forward\u001b[0m\u001b[0;34m(\u001b[0m\u001b[0mstart_ind\u001b[0m\u001b[0;34m,\u001b[0m \u001b[0mend_ind\u001b[0m\u001b[0;34m)\u001b[0m\u001b[0;34m\u001b[0m\u001b[0m\n\u001b[0m\u001b[1;32m    132\u001b[0m \u001b[0;34m\u001b[0m\u001b[0m\n\u001b[1;32m    133\u001b[0m     \u001b[0;31m# Unpack blobs to extract\u001b[0m\u001b[0;34m\u001b[0m\u001b[0;34m\u001b[0m\u001b[0m\n",
      "\u001b[0;31mKeyboardInterrupt\u001b[0m: "
     ]
    }
   ],
   "source": [
    "import scipy\n",
    "\n",
    "labs = {}\n",
    "for lab in os.listdir('../BSR/BSDS500/data/groundTruth/test'):\n",
    "    gt = convert_label(255 * np.mean([x[0][0][1] for x in scipy.io.loadmat('../BSR/BSDS500/data/groundTruth/test/{}'.format(lab))['groundTruth'][0]], axis=0))\n",
    "    name = lab.split('.')[0]\n",
    "\n",
    "    labs[name] = gt\n",
    "    \n",
    "attacks = {}\n",
    "for image in os.listdir(test_dir):\n",
    "    name = image.split('.')[0]\n",
    "    att = attack(get_image(os.path.join(test_dir, image)), np.zeros_like(labs[name]), True, True)\n",
    "#     att = attack(get_image(os.path.join(test_dir, image)), labs[name], False)\n",
    "    \n",
    "    attacks[image] = att\n",
    "    print('attacked ', image)"
   ]
  },
  {
   "cell_type": "code",
   "execution_count": 6,
   "metadata": {
    "collapsed": true
   },
   "outputs": [],
   "source": [
    "\n",
    "def forward_test(dat):\n",
    "    net.blobs['data'].reshape(1, *dat.shape)\n",
    "    net.blobs['data'].data[...] = dat\n",
    "    net.forward()\n",
    "    return np.array(net.blobs['sigmoid_fuse'].data)\n",
    "\n",
    "argnet = 'model/hed_test.pt'\n",
    "\n",
    "net = caffe.Net(argnet, model, caffe.TEST)\n",
    "\n"
   ]
  },
  {
   "cell_type": "code",
   "execution_count": 7,
   "metadata": {},
   "outputs": [
    {
     "name": "stdout",
     "output_type": "stream",
     "text": [
      "('attacked ', 1)\n"
     ]
    },
    {
     "name": "stderr",
     "output_type": "stream",
     "text": [
      "/home/christian/.conda/envs/caf/lib/python2.7/site-packages/ipykernel_launcher.py:8: DeprecationWarning: `imsave` is deprecated!\n",
      "`imsave` is deprecated in SciPy 1.0.0, and will be removed in 1.2.0.\n",
      "Use ``imageio.imwrite`` instead.\n",
      "  \n",
      "/home/christian/.conda/envs/caf/lib/python2.7/site-packages/ipykernel_launcher.py:9: DeprecationWarning: `imsave` is deprecated!\n",
      "`imsave` is deprecated in SciPy 1.0.0, and will be removed in 1.2.0.\n",
      "Use ``imageio.imwrite`` instead.\n",
      "  if __name__ == '__main__':\n"
     ]
    }
   ],
   "source": [
    "\n",
    "attacks_dir = './output_attacks_suppress_256'\n",
    "real_dir = './output'\n",
    "\n",
    "count = 0\n",
    "for image in attacks:\n",
    "    edge = np.squeeze(forward_test(attacks[image]))\n",
    "    scipy.misc.imsave(join(attacks_dir, image.split('.')[0] + '.png'), edge / edge.max())\n",
    "    scipy.misc.imsave(join(attacks_dir, image.split('.')[0] + '_im.png'), attacks[image].transpose(1, 2, 0))\n",
    "    \n",
    "    count += 1\n",
    "    print('attacked ', count)\n",
    "#     edge = np.squeeze(forward_test(get_image(os.path.join(test_dir, image))))\n",
    "#     scipy.misc.imsave(join(real_dir, image.split('.')[0] + '.png'), edge / edge.max())"
   ]
  },
  {
   "cell_type": "code",
   "execution_count": null,
   "metadata": {
    "collapsed": true
   },
   "outputs": [],
   "source": []
  }
 ],
 "metadata": {
  "kernelspec": {
   "display_name": "Python (caf)",
   "language": "python",
   "name": "caf"
  },
  "language_info": {
   "codemirror_mode": {
    "name": "ipython",
    "version": 2
   },
   "file_extension": ".py",
   "mimetype": "text/x-python",
   "name": "python",
   "nbconvert_exporter": "python",
   "pygments_lexer": "ipython2",
   "version": "2.7.15"
  }
 },
 "nbformat": 4,
 "nbformat_minor": 2
}
